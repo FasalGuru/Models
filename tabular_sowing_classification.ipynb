{
 "cells": [
  {
   "cell_type": "code",
   "execution_count": 1,
   "metadata": {},
   "outputs": [],
   "source": [
    "import numpy as np \n",
    "import pandas as pd \n",
    "import matplotlib.pyplot as plt"
   ]
  },
  {
   "cell_type": "code",
   "execution_count": 2,
   "metadata": {},
   "outputs": [
    {
     "data": {
      "text/html": [
       "<div>\n",
       "<style scoped>\n",
       "    .dataframe tbody tr th:only-of-type {\n",
       "        vertical-align: middle;\n",
       "    }\n",
       "\n",
       "    .dataframe tbody tr th {\n",
       "        vertical-align: top;\n",
       "    }\n",
       "\n",
       "    .dataframe thead th {\n",
       "        text-align: right;\n",
       "    }\n",
       "</style>\n",
       "<table border=\"1\" class=\"dataframe\">\n",
       "  <thead>\n",
       "    <tr style=\"text-align: right;\">\n",
       "      <th></th>\n",
       "      <th>N</th>\n",
       "      <th>P</th>\n",
       "      <th>K</th>\n",
       "      <th>temperature</th>\n",
       "      <th>humidity</th>\n",
       "      <th>ph</th>\n",
       "      <th>rainfall</th>\n",
       "      <th>label</th>\n",
       "    </tr>\n",
       "  </thead>\n",
       "  <tbody>\n",
       "    <tr>\n",
       "      <th>0</th>\n",
       "      <td>90</td>\n",
       "      <td>42</td>\n",
       "      <td>43</td>\n",
       "      <td>20.879744</td>\n",
       "      <td>82.002744</td>\n",
       "      <td>6.502985</td>\n",
       "      <td>202.935536</td>\n",
       "      <td>rice</td>\n",
       "    </tr>\n",
       "    <tr>\n",
       "      <th>1</th>\n",
       "      <td>85</td>\n",
       "      <td>58</td>\n",
       "      <td>41</td>\n",
       "      <td>21.770462</td>\n",
       "      <td>80.319644</td>\n",
       "      <td>7.038096</td>\n",
       "      <td>226.655537</td>\n",
       "      <td>rice</td>\n",
       "    </tr>\n",
       "  </tbody>\n",
       "</table>\n",
       "</div>"
      ],
      "text/plain": [
       "    N   P   K  temperature   humidity        ph    rainfall label\n",
       "0  90  42  43    20.879744  82.002744  6.502985  202.935536  rice\n",
       "1  85  58  41    21.770462  80.319644  7.038096  226.655537  rice"
      ]
     },
     "execution_count": 2,
     "metadata": {},
     "output_type": "execute_result"
    }
   ],
   "source": [
    "df = pd.read_csv(\"./data/Crop_recommendation.csv\")\n",
    "df.head(n=2)"
   ]
  },
  {
   "cell_type": "code",
   "execution_count": 3,
   "metadata": {},
   "outputs": [],
   "source": [
    "from sklearn.preprocessing import LabelEncoder"
   ]
  },
  {
   "cell_type": "code",
   "execution_count": 4,
   "metadata": {},
   "outputs": [
    {
     "name": "stdout",
     "output_type": "stream",
     "text": [
      "140\n",
      "145\n",
      "205\n",
      "43.67549305\n",
      "99.98187601\n",
      "9.93509073\n",
      "298.5601175\n"
     ]
    }
   ],
   "source": [
    "X = df.iloc[:, :-1]\n",
    "y = df.iloc[:, -1]\n",
    "\n",
    "# Scaling X\n",
    "for col in X.columns:\n",
    "    col_max = X[col].abs().max()\n",
    "    print(col_max)\n",
    "    X[col] /= col_max\n",
    "\n",
    "# Label Encoding y\n",
    "label_encoder = LabelEncoder()\n",
    "y = label_encoder.fit_transform(y)"
   ]
  },
  {
   "cell_type": "code",
   "execution_count": 5,
   "metadata": {},
   "outputs": [],
   "source": [
    "import pickle\n",
    "with open(\"label_encoder.pkl\", \"wb\") as f:\n",
    "    pickle.dump(label_encoder, f)"
   ]
  },
  {
   "cell_type": "code",
   "execution_count": 6,
   "metadata": {},
   "outputs": [
    {
     "data": {
      "text/plain": [
       "'cpu'"
      ]
     },
     "execution_count": 6,
     "metadata": {},
     "output_type": "execute_result"
    }
   ],
   "source": [
    "import torch\n",
    "import torch.nn as nn\n",
    "from torch.optim import Adam\n",
    "from torch.utils.data import Dataset, DataLoader\n",
    "torch.cuda.empty_cache()\n",
    "\n",
    "from sklearn.model_selection import train_test_split\n",
    "from sklearn.metrics import accuracy_score\n",
    "\n",
    "device = \"cuda\" if torch.cuda.is_available() else \"cpu\"\n",
    "device"
   ]
  },
  {
   "cell_type": "code",
   "execution_count": 7,
   "metadata": {},
   "outputs": [],
   "source": [
    "X_train, X_test, y_train, y_test = train_test_split(X, y, train_size=0.7, shuffle=True)\n",
    "X_test, X_val, y_test, y_val = train_test_split(X_test, y_test, train_size=0.5, shuffle=True)"
   ]
  },
  {
   "cell_type": "code",
   "execution_count": 8,
   "metadata": {},
   "outputs": [],
   "source": [
    "class ClassificationDataset(Dataset):\n",
    "    def __init__(self, X, y):\n",
    "        super().__init__()\n",
    "        self.X = torch.tensor(np.array(X), dtype=torch.float32).to(device)\n",
    "        self.y = torch.tensor(np.array(y).reshape(-1), dtype=torch.float32).to(device)\n",
    "\n",
    "    def __len__(self):\n",
    "        return len(self.X)\n",
    "\n",
    "    def __getitem__(self, idx):\n",
    "        return self.X[idx], self.y[idx]"
   ]
  },
  {
   "cell_type": "code",
   "execution_count": 9,
   "metadata": {},
   "outputs": [],
   "source": [
    "train = ClassificationDataset(X_train, y_train)\n",
    "val = ClassificationDataset(X_val, y_val)\n",
    "test = ClassificationDataset(X_test, y_test)"
   ]
  },
  {
   "cell_type": "code",
   "execution_count": 10,
   "metadata": {},
   "outputs": [],
   "source": [
    "train_dataloader = DataLoader(train)\n",
    "val_dataloader = DataLoader(val)\n",
    "test_dataloader = DataLoader(test)"
   ]
  },
  {
   "cell_type": "code",
   "execution_count": 11,
   "metadata": {},
   "outputs": [],
   "source": [
    "HIDDEN_NEURONS = 10\n",
    "class Model(nn.Module):\n",
    "    def __init__(self):\n",
    "        super(Model, self).__init__()\n",
    "        self.input_layer = nn.Linear(X.shape[1], HIDDEN_NEURONS)\n",
    "        self.hidden_layer = nn.Linear(HIDDEN_NEURONS, HIDDEN_NEURONS)  \n",
    "        self.output = nn.Linear(HIDDEN_NEURONS, len(np.unique(y)))  \n",
    "\n",
    "        self.relu = nn.ReLU()  # ReLU for hidden layers\n",
    "        self.softmax = nn.Softmax(dim=1)  # Softmax for multi-class classification\n",
    "\n",
    "    def forward(self, x):\n",
    "        x = self.relu(self.input_layer(x))\n",
    "        x = self.relu(self.hidden_layer(x))\n",
    "        x = self.output(x)\n",
    "        x = self.softmax(x)\n",
    "\n",
    "        return x"
   ]
  },
  {
   "cell_type": "code",
   "execution_count": 12,
   "metadata": {},
   "outputs": [
    {
     "name": "stdout",
     "output_type": "stream",
     "text": [
      "----------------------------------------------------------------\n",
      "        Layer (type)               Output Shape         Param #\n",
      "================================================================\n",
      "            Linear-1                   [-1, 10]              80\n",
      "              ReLU-2                   [-1, 10]               0\n",
      "            Linear-3                   [-1, 10]             110\n",
      "              ReLU-4                   [-1, 10]               0\n",
      "            Linear-5                   [-1, 22]             242\n",
      "           Softmax-6                   [-1, 22]               0\n",
      "================================================================\n",
      "Total params: 432\n",
      "Trainable params: 432\n",
      "Non-trainable params: 0\n",
      "----------------------------------------------------------------\n",
      "Input size (MB): 0.00\n",
      "Forward/backward pass size (MB): 0.00\n",
      "Params size (MB): 0.00\n",
      "Estimated Total Size (MB): 0.00\n",
      "----------------------------------------------------------------\n"
     ]
    }
   ],
   "source": [
    "model = Model().to(device)\n",
    "from torchsummary import summary\n",
    "\n",
    "summary(model, (X.shape[1], ))"
   ]
  },
  {
   "cell_type": "code",
   "execution_count": 13,
   "metadata": {},
   "outputs": [],
   "source": [
    "BATCH_SIZE = 32\n",
    "EPOCHS = 100\n",
    "HIDDEN_NEURONS = 10\n",
    "LR = 1e-3"
   ]
  },
  {
   "cell_type": "code",
   "execution_count": 14,
   "metadata": {},
   "outputs": [],
   "source": [
    "criterion = nn.CrossEntropyLoss()\n",
    "optimizer = Adam(model.parameters(), lr=LR)"
   ]
  },
  {
   "cell_type": "code",
   "execution_count": 15,
   "metadata": {},
   "outputs": [
    {
     "name": "stdout",
     "output_type": "stream",
     "text": [
      "Epoch no. 1 Train Loss: 4.7531 Train Accuracy: 6.4286 Validation Loss: 1.0157 Validation Accuracy: 8.7879\n",
      "==================================================\n",
      "Epoch no. 2 Train Loss: 4.6838 Train Accuracy: 10.9740 Validation Loss: 0.9923 Validation Accuracy: 13.6364\n",
      "==================================================\n",
      "Epoch no. 3 Train Loss: 4.5891 Train Accuracy: 16.2987 Validation Loss: 0.9768 Validation Accuracy: 23.6364\n",
      "==================================================\n",
      "Epoch no. 4 Train Loss: 4.4987 Train Accuracy: 26.9481 Validation Loss: 0.9578 Validation Accuracy: 29.6970\n",
      "==================================================\n",
      "Epoch no. 5 Train Loss: 4.4081 Train Accuracy: 35.4545 Validation Loss: 0.9389 Validation Accuracy: 39.6970\n",
      "==================================================\n",
      "Epoch no. 6 Train Loss: 4.3319 Train Accuracy: 42.7922 Validation Loss: 0.9241 Validation Accuracy: 44.5455\n",
      "==================================================\n",
      "Epoch no. 7 Train Loss: 4.2666 Train Accuracy: 49.1558 Validation Loss: 0.9086 Validation Accuracy: 51.8182\n",
      "==================================================\n",
      "Epoch no. 8 Train Loss: 4.2011 Train Accuracy: 55.3896 Validation Loss: 0.8947 Validation Accuracy: 56.9697\n",
      "==================================================\n",
      "Epoch no. 9 Train Loss: 4.1443 Train Accuracy: 57.4675 Validation Loss: 0.8825 Validation Accuracy: 59.0909\n",
      "==================================================\n",
      "Epoch no. 10 Train Loss: 4.0900 Train Accuracy: 60.7792 Validation Loss: 0.8737 Validation Accuracy: 62.1212\n",
      "==================================================\n",
      "Epoch no. 11 Train Loss: 4.0376 Train Accuracy: 63.7013 Validation Loss: 0.8630 Validation Accuracy: 64.2424\n",
      "==================================================\n",
      "Epoch no. 12 Train Loss: 3.9938 Train Accuracy: 65.1299 Validation Loss: 0.8524 Validation Accuracy: 68.1818\n",
      "==================================================\n",
      "Epoch no. 13 Train Loss: 3.9544 Train Accuracy: 68.0519 Validation Loss: 0.8439 Validation Accuracy: 70.0000\n",
      "==================================================\n",
      "Epoch no. 14 Train Loss: 3.9234 Train Accuracy: 69.1558 Validation Loss: 0.8376 Validation Accuracy: 73.0303\n",
      "==================================================\n",
      "Epoch no. 15 Train Loss: 3.8986 Train Accuracy: 69.8052 Validation Loss: 0.8326 Validation Accuracy: 75.7576\n",
      "==================================================\n",
      "Epoch no. 16 Train Loss: 3.8775 Train Accuracy: 70.9740 Validation Loss: 0.8286 Validation Accuracy: 75.7576\n",
      "==================================================\n",
      "Epoch no. 17 Train Loss: 3.8587 Train Accuracy: 72.5325 Validation Loss: 0.8252 Validation Accuracy: 75.7576\n",
      "==================================================\n",
      "Epoch no. 18 Train Loss: 3.8419 Train Accuracy: 73.1169 Validation Loss: 0.8222 Validation Accuracy: 75.7576\n",
      "==================================================\n",
      "Epoch no. 19 Train Loss: 3.8263 Train Accuracy: 74.0909 Validation Loss: 0.8192 Validation Accuracy: 76.9697\n",
      "==================================================\n",
      "Epoch no. 20 Train Loss: 3.8116 Train Accuracy: 75.2597 Validation Loss: 0.8165 Validation Accuracy: 77.5758\n",
      "==================================================\n",
      "Epoch no. 21 Train Loss: 3.7978 Train Accuracy: 76.2987 Validation Loss: 0.8138 Validation Accuracy: 77.5758\n",
      "==================================================\n",
      "Epoch no. 22 Train Loss: 3.7847 Train Accuracy: 77.1429 Validation Loss: 0.8113 Validation Accuracy: 77.8788\n",
      "==================================================\n",
      "Epoch no. 23 Train Loss: 3.7729 Train Accuracy: 77.8571 Validation Loss: 0.8090 Validation Accuracy: 78.1818\n",
      "==================================================\n",
      "Epoch no. 24 Train Loss: 3.7616 Train Accuracy: 78.4416 Validation Loss: 0.8068 Validation Accuracy: 78.1818\n",
      "==================================================\n",
      "Epoch no. 25 Train Loss: 3.7512 Train Accuracy: 78.7662 Validation Loss: 0.8047 Validation Accuracy: 78.1818\n",
      "==================================================\n",
      "Epoch no. 26 Train Loss: 3.7416 Train Accuracy: 79.0260 Validation Loss: 0.8031 Validation Accuracy: 79.0909\n",
      "==================================================\n",
      "Epoch no. 27 Train Loss: 3.7327 Train Accuracy: 79.4805 Validation Loss: 0.8007 Validation Accuracy: 79.3939\n",
      "==================================================\n",
      "Epoch no. 28 Train Loss: 3.7244 Train Accuracy: 79.8052 Validation Loss: 0.7989 Validation Accuracy: 79.0909\n",
      "==================================================\n",
      "Epoch no. 29 Train Loss: 3.7165 Train Accuracy: 79.8052 Validation Loss: 0.7977 Validation Accuracy: 79.3939\n",
      "==================================================\n",
      "Epoch no. 30 Train Loss: 3.7088 Train Accuracy: 80.0649 Validation Loss: 0.7963 Validation Accuracy: 79.6970\n",
      "==================================================\n",
      "Epoch no. 31 Train Loss: 3.7019 Train Accuracy: 80.1299 Validation Loss: 0.7949 Validation Accuracy: 79.6970\n",
      "==================================================\n",
      "Epoch no. 32 Train Loss: 3.6954 Train Accuracy: 80.6494 Validation Loss: 0.7936 Validation Accuracy: 79.6970\n",
      "==================================================\n",
      "Epoch no. 33 Train Loss: 3.6895 Train Accuracy: 80.9740 Validation Loss: 0.7927 Validation Accuracy: 79.3939\n",
      "==================================================\n",
      "Epoch no. 34 Train Loss: 3.6842 Train Accuracy: 80.8442 Validation Loss: 0.7912 Validation Accuracy: 79.3939\n",
      "==================================================\n",
      "Epoch no. 35 Train Loss: 3.6791 Train Accuracy: 81.1688 Validation Loss: 0.7903 Validation Accuracy: 79.0909\n",
      "==================================================\n",
      "Epoch no. 36 Train Loss: 3.6746 Train Accuracy: 81.2338 Validation Loss: 0.7894 Validation Accuracy: 79.0909\n",
      "==================================================\n",
      "Epoch no. 37 Train Loss: 3.6702 Train Accuracy: 81.4935 Validation Loss: 0.7886 Validation Accuracy: 79.0909\n",
      "==================================================\n",
      "Epoch no. 38 Train Loss: 3.6661 Train Accuracy: 81.5584 Validation Loss: 0.7878 Validation Accuracy: 79.0909\n",
      "==================================================\n",
      "Epoch no. 39 Train Loss: 3.6621 Train Accuracy: 81.5584 Validation Loss: 0.7872 Validation Accuracy: 79.6970\n",
      "==================================================\n",
      "Epoch no. 40 Train Loss: 3.6585 Train Accuracy: 81.7532 Validation Loss: 0.7864 Validation Accuracy: 80.0000\n",
      "==================================================\n",
      "Epoch no. 41 Train Loss: 3.6551 Train Accuracy: 81.8182 Validation Loss: 0.7858 Validation Accuracy: 80.3030\n",
      "==================================================\n",
      "Epoch no. 42 Train Loss: 3.6519 Train Accuracy: 81.8182 Validation Loss: 0.7851 Validation Accuracy: 81.2121\n",
      "==================================================\n",
      "Epoch no. 43 Train Loss: 3.6489 Train Accuracy: 82.0130 Validation Loss: 0.7846 Validation Accuracy: 81.5152\n",
      "==================================================\n",
      "Epoch no. 44 Train Loss: 3.6461 Train Accuracy: 82.2078 Validation Loss: 0.7841 Validation Accuracy: 81.8182\n",
      "==================================================\n",
      "Epoch no. 45 Train Loss: 3.6439 Train Accuracy: 82.3377 Validation Loss: 0.7834 Validation Accuracy: 81.8182\n",
      "==================================================\n",
      "Epoch no. 46 Train Loss: 3.6409 Train Accuracy: 82.2727 Validation Loss: 0.7832 Validation Accuracy: 81.2121\n",
      "==================================================\n",
      "Epoch no. 47 Train Loss: 3.6387 Train Accuracy: 82.3377 Validation Loss: 0.7826 Validation Accuracy: 81.5152\n",
      "==================================================\n",
      "Epoch no. 48 Train Loss: 3.6362 Train Accuracy: 82.2727 Validation Loss: 0.7823 Validation Accuracy: 82.1212\n",
      "==================================================\n",
      "Epoch no. 49 Train Loss: 3.6342 Train Accuracy: 82.5325 Validation Loss: 0.7818 Validation Accuracy: 82.4242\n",
      "==================================================\n",
      "Epoch no. 50 Train Loss: 3.6319 Train Accuracy: 82.5325 Validation Loss: 0.7815 Validation Accuracy: 82.4242\n",
      "==================================================\n",
      "Epoch no. 51 Train Loss: 3.6300 Train Accuracy: 82.6623 Validation Loss: 0.7809 Validation Accuracy: 82.4242\n",
      "==================================================\n",
      "Epoch no. 52 Train Loss: 3.6279 Train Accuracy: 82.5974 Validation Loss: 0.7803 Validation Accuracy: 82.7273\n",
      "==================================================\n",
      "Epoch no. 53 Train Loss: 3.6261 Train Accuracy: 82.7922 Validation Loss: 0.7797 Validation Accuracy: 82.7273\n",
      "==================================================\n",
      "Epoch no. 54 Train Loss: 3.6244 Train Accuracy: 82.7922 Validation Loss: 0.7794 Validation Accuracy: 82.4242\n",
      "==================================================\n",
      "Epoch no. 55 Train Loss: 3.6225 Train Accuracy: 82.9221 Validation Loss: 0.7788 Validation Accuracy: 82.4242\n",
      "==================================================\n",
      "Epoch no. 56 Train Loss: 3.6209 Train Accuracy: 82.9221 Validation Loss: 0.7782 Validation Accuracy: 82.7273\n",
      "==================================================\n",
      "Epoch no. 57 Train Loss: 3.6192 Train Accuracy: 83.0519 Validation Loss: 0.7775 Validation Accuracy: 82.7273\n",
      "==================================================\n",
      "Epoch no. 58 Train Loss: 3.6174 Train Accuracy: 83.0519 Validation Loss: 0.7769 Validation Accuracy: 83.3333\n",
      "==================================================\n",
      "Epoch no. 59 Train Loss: 3.6160 Train Accuracy: 83.1169 Validation Loss: 0.7764 Validation Accuracy: 83.3333\n",
      "==================================================\n",
      "Epoch no. 60 Train Loss: 3.6143 Train Accuracy: 83.3117 Validation Loss: 0.7756 Validation Accuracy: 83.3333\n",
      "==================================================\n",
      "Epoch no. 61 Train Loss: 3.6130 Train Accuracy: 83.5065 Validation Loss: 0.7751 Validation Accuracy: 83.6364\n",
      "==================================================\n",
      "Epoch no. 62 Train Loss: 3.6115 Train Accuracy: 83.5065 Validation Loss: 0.7744 Validation Accuracy: 84.2424\n",
      "==================================================\n",
      "Epoch no. 63 Train Loss: 3.6104 Train Accuracy: 83.7013 Validation Loss: 0.7740 Validation Accuracy: 84.2424\n",
      "==================================================\n",
      "Epoch no. 64 Train Loss: 3.6092 Train Accuracy: 83.7662 Validation Loss: 0.7735 Validation Accuracy: 84.2424\n",
      "==================================================\n",
      "Epoch no. 65 Train Loss: 3.6079 Train Accuracy: 83.6364 Validation Loss: 0.7731 Validation Accuracy: 84.2424\n",
      "==================================================\n",
      "Epoch no. 66 Train Loss: 3.6066 Train Accuracy: 83.6364 Validation Loss: 0.7727 Validation Accuracy: 84.2424\n",
      "==================================================\n",
      "Epoch no. 67 Train Loss: 3.6053 Train Accuracy: 83.6364 Validation Loss: 0.7724 Validation Accuracy: 84.5455\n",
      "==================================================\n",
      "Epoch no. 68 Train Loss: 3.6042 Train Accuracy: 83.7013 Validation Loss: 0.7721 Validation Accuracy: 84.5455\n",
      "==================================================\n",
      "Epoch no. 69 Train Loss: 3.6031 Train Accuracy: 83.7013 Validation Loss: 0.7718 Validation Accuracy: 84.5455\n",
      "==================================================\n",
      "Epoch no. 70 Train Loss: 3.6020 Train Accuracy: 83.7013 Validation Loss: 0.7715 Validation Accuracy: 84.5455\n",
      "==================================================\n",
      "Epoch no. 71 Train Loss: 3.6007 Train Accuracy: 83.8961 Validation Loss: 0.7713 Validation Accuracy: 84.5455\n",
      "==================================================\n",
      "Epoch no. 72 Train Loss: 3.5996 Train Accuracy: 83.8312 Validation Loss: 0.7711 Validation Accuracy: 84.5455\n",
      "==================================================\n",
      "Epoch no. 73 Train Loss: 3.5985 Train Accuracy: 83.8312 Validation Loss: 0.7709 Validation Accuracy: 84.5455\n",
      "==================================================\n",
      "Epoch no. 74 Train Loss: 3.5970 Train Accuracy: 83.8961 Validation Loss: 0.7707 Validation Accuracy: 84.5455\n",
      "==================================================\n",
      "Epoch no. 75 Train Loss: 3.5959 Train Accuracy: 83.9610 Validation Loss: 0.7705 Validation Accuracy: 84.5455\n",
      "==================================================\n",
      "Epoch no. 76 Train Loss: 3.5945 Train Accuracy: 84.1558 Validation Loss: 0.7703 Validation Accuracy: 84.5455\n",
      "==================================================\n",
      "Epoch no. 77 Train Loss: 3.5932 Train Accuracy: 84.2857 Validation Loss: 0.7702 Validation Accuracy: 84.5455\n",
      "==================================================\n",
      "Epoch no. 78 Train Loss: 3.5922 Train Accuracy: 84.3506 Validation Loss: 0.7699 Validation Accuracy: 84.8485\n",
      "==================================================\n",
      "Epoch no. 79 Train Loss: 3.5911 Train Accuracy: 84.4805 Validation Loss: 0.7697 Validation Accuracy: 84.8485\n",
      "==================================================\n",
      "Epoch no. 80 Train Loss: 3.5901 Train Accuracy: 84.4805 Validation Loss: 0.7695 Validation Accuracy: 84.8485\n",
      "==================================================\n",
      "Epoch no. 81 Train Loss: 3.5891 Train Accuracy: 84.5455 Validation Loss: 0.7693 Validation Accuracy: 84.8485\n",
      "==================================================\n",
      "Epoch no. 82 Train Loss: 3.5881 Train Accuracy: 84.5455 Validation Loss: 0.7692 Validation Accuracy: 84.8485\n",
      "==================================================\n",
      "Epoch no. 83 Train Loss: 3.5874 Train Accuracy: 84.6104 Validation Loss: 0.7689 Validation Accuracy: 84.8485\n",
      "==================================================\n",
      "Epoch no. 84 Train Loss: 3.5867 Train Accuracy: 84.6104 Validation Loss: 0.7688 Validation Accuracy: 84.8485\n",
      "==================================================\n",
      "Epoch no. 85 Train Loss: 3.5859 Train Accuracy: 84.6104 Validation Loss: 0.7686 Validation Accuracy: 84.8485\n",
      "==================================================\n",
      "Epoch no. 86 Train Loss: 3.5852 Train Accuracy: 84.6104 Validation Loss: 0.7684 Validation Accuracy: 84.8485\n",
      "==================================================\n",
      "Epoch no. 87 Train Loss: 3.5845 Train Accuracy: 84.6104 Validation Loss: 0.7683 Validation Accuracy: 84.8485\n",
      "==================================================\n",
      "Epoch no. 88 Train Loss: 3.5839 Train Accuracy: 84.7403 Validation Loss: 0.7681 Validation Accuracy: 84.8485\n",
      "==================================================\n",
      "Epoch no. 89 Train Loss: 3.5834 Train Accuracy: 84.7403 Validation Loss: 0.7680 Validation Accuracy: 84.8485\n",
      "==================================================\n",
      "Epoch no. 90 Train Loss: 3.5830 Train Accuracy: 84.7403 Validation Loss: 0.7678 Validation Accuracy: 84.8485\n",
      "==================================================\n",
      "Epoch no. 91 Train Loss: 3.5826 Train Accuracy: 84.7403 Validation Loss: 0.7678 Validation Accuracy: 84.8485\n",
      "==================================================\n",
      "Epoch no. 92 Train Loss: 3.5822 Train Accuracy: 84.7403 Validation Loss: 0.7675 Validation Accuracy: 84.8485\n",
      "==================================================\n",
      "Epoch no. 93 Train Loss: 3.5818 Train Accuracy: 84.7403 Validation Loss: 0.7673 Validation Accuracy: 84.8485\n",
      "==================================================\n",
      "Epoch no. 94 Train Loss: 3.5816 Train Accuracy: 84.6753 Validation Loss: 0.7672 Validation Accuracy: 84.8485\n",
      "==================================================\n",
      "Epoch no. 95 Train Loss: 3.5816 Train Accuracy: 84.6753 Validation Loss: 0.7670 Validation Accuracy: 84.8485\n",
      "==================================================\n",
      "Epoch no. 96 Train Loss: 3.5816 Train Accuracy: 84.6753 Validation Loss: 0.7670 Validation Accuracy: 84.8485\n",
      "==================================================\n",
      "Epoch no. 97 Train Loss: 3.5811 Train Accuracy: 84.6753 Validation Loss: 0.7668 Validation Accuracy: 84.8485\n",
      "==================================================\n",
      "Epoch no. 98 Train Loss: 3.5805 Train Accuracy: 84.7403 Validation Loss: 0.7667 Validation Accuracy: 84.8485\n",
      "==================================================\n",
      "Epoch no. 99 Train Loss: 3.5800 Train Accuracy: 84.8052 Validation Loss: 0.7666 Validation Accuracy: 85.1515\n",
      "==================================================\n",
      "Epoch no. 100 Train Loss: 3.5796 Train Accuracy: 84.8701 Validation Loss: 0.7666 Validation Accuracy: 85.1515\n",
      "==================================================\n"
     ]
    }
   ],
   "source": [
    "total_loss_train_plot = []\n",
    "total_loss_validation_plot = []\n",
    "total_acc_train_plot = []\n",
    "total_acc_validation_plot = []\n",
    "\n",
    "for epoch in range(EPOCHS):\n",
    "    total_acc_train = 0\n",
    "    total_loss_train = 0\n",
    "    total_acc_val = 0\n",
    "    total_loss_val = 0\n",
    "\n",
    "    ## Training Loop\n",
    "    for data in train_dataloader:\n",
    "        inputs, labels = data\n",
    "        labels = labels.long() \n",
    "        prediction = model(inputs)  # No squeeze\n",
    "        batch_loss = criterion(prediction, labels)\n",
    "        total_loss_train += batch_loss.item()\n",
    "\n",
    "        acc = (prediction.argmax(dim=1) == labels).sum().item()  # Corrected accuracy\n",
    "        total_acc_train += acc\n",
    "\n",
    "        batch_loss.backward()\n",
    "        optimizer.step()\n",
    "        optimizer.zero_grad()\n",
    "\n",
    "    ## Validation Loop\n",
    "    with torch.no_grad():\n",
    "        for data in val_dataloader:\n",
    "            inputs, labels = data\n",
    "            labels = labels.long()\n",
    "            prediction = model(inputs)  # No squeeze\n",
    "            batch_loss = criterion(prediction, labels)\n",
    "            total_loss_val += batch_loss.item()\n",
    "\n",
    "            acc = (prediction.argmax(dim=1) == labels).sum().item()  # Corrected accuracy\n",
    "            total_acc_val += acc\n",
    "\n",
    "    total_loss_train_plot.append(round(total_loss_train/1000, 4))\n",
    "    total_loss_validation_plot.append(round(total_loss_val/1000, 4))\n",
    "    total_acc_train_plot.append(round(total_acc_train/(train.__len__())*100, 4))\n",
    "    total_acc_validation_plot.append(round(total_acc_val/(val.__len__())*100, 4))\n",
    "\n",
    "    print(f'''Epoch no. {epoch + 1} Train Loss: {total_loss_train/1000:.4f} Train Accuracy: {(total_acc_train/(train.__len__())*100):.4f} Validation Loss: {total_loss_val/1000:.4f} Validation Accuracy: {(total_acc_val/(val.__len__())*100):.4f}''')\n",
    "    print(\"=\"*50)\n"
   ]
  },
  {
   "cell_type": "code",
   "execution_count": 16,
   "metadata": {},
   "outputs": [
    {
     "data": {
      "image/png": "[encoded data removed]",
      "text/plain": [
       "<Figure size 1500x500 with 2 Axes>"
      ]
     },
     "metadata": {},
     "output_type": "display_data"
    }
   ],
   "source": [
    "fig, axs = plt.subplots(nrows=1, ncols=2, figsize=(15, 5))\n",
    "\n",
    "axs[0].plot(total_loss_train_plot, label='Training Loss')\n",
    "axs[0].plot(total_loss_validation_plot, label='Validation Loss')\n",
    "axs[0].set_title('Training and Validation Loss over Epochs')\n",
    "axs[0].set_xlabel('Epochs')\n",
    "axs[0].set_ylabel('Loss')\n",
    "axs[0].set_ylim([0, 2])\n",
    "axs[0].legend()\n",
    "\n",
    "axs[1].plot(total_acc_train_plot, label='Training Accuracy')\n",
    "axs[1].plot(total_acc_validation_plot, label='Validation Accuracy')\n",
    "axs[1].set_title('Training and Validation Accuracy over Epochs')\n",
    "axs[1].set_xlabel('Epochs')\n",
    "axs[1].set_ylabel('Accuracy')\n",
    "axs[1].set_ylim([0, 100])\n",
    "axs[1].legend()\n",
    "\n",
    "plt.tight_layout()\n",
    "\n",
    "plt.show()"
   ]
  },
  {
   "cell_type": "code",
   "execution_count": 17,
   "metadata": {},
   "outputs": [
    {
     "name": "stdout",
     "output_type": "stream",
     "text": [
      "Accuracy Score is: 86.97%\n"
     ]
    }
   ],
   "source": [
    "with torch.no_grad():\n",
    "  total_loss_test = 0\n",
    "  total_acc_test = 0\n",
    "  for data in test_dataloader:\n",
    "    inputs, labels = data\n",
    "    labels = labels.long()\n",
    "    prediction = model(inputs).squeeze(1)\n",
    "\n",
    "    batch_loss_test = criterion((prediction), labels)\n",
    "    total_loss_test += batch_loss_test.item()\n",
    "    acc = ((prediction).round() == labels).sum().item()\n",
    "    total_acc_test += acc\n",
    "\n",
    "print(f\"Accuracy Score is: {round((total_acc_test/X_test.shape[0])*100, 2)}%\")\n",
    "     "
   ]
  },
  {
   "cell_type": "code",
   "execution_count": 18,
   "metadata": {},
   "outputs": [],
   "source": [
    "torch.save(model.state_dict(), \"./models/tabular_sowing_classification.pt\")"
   ]
  },
  {
   "cell_type": "code",
   "execution_count": 19,
   "metadata": {},
   "outputs": [],
   "source": [
    "model = model.load_state_dict(torch.load(\"./models/tabular_sowing_classification.pt\"))"
   ]
  }
 ],
 "metadata": {
  "kernelspec": {
   "display_name": "env_fasal_guru",
   "language": "python",
   "name": "python3"
  },
  "language_info": {
   "codemirror_mode": {
    "name": "ipython",
    "version": 3
   },
   "file_extension": ".py",
   "mimetype": "text/x-python",
   "name": "python",
   "nbconvert_exporter": "python",
   "pygments_lexer": "ipython3",
   "version": "3.13.2"
  }
 },
 "nbformat": 4,
 "nbformat_minor": 2
}
